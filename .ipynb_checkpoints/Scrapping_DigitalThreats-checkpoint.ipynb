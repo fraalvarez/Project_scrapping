{
 "cells": [
  {
   "cell_type": "code",
   "execution_count": 1,
   "metadata": {},
   "outputs": [],
   "source": [
    "from IPython.core.interactiveshell import InteractiveShell\n",
    "InteractiveShell.ast_node_interactivity = 'all'"
   ]
  },
  {
   "cell_type": "code",
   "execution_count": 2,
   "metadata": {},
   "outputs": [],
   "source": [
    "import os\n",
    "import re\n",
    "import time\n",
    "import requests\n",
    "import datetime\n",
    "import pandas as pd\n",
    "import numpy as np\n",
    "from bs4 import BeautifulSoup\n",
    "from selenium import webdriver\n",
    "from selenium.webdriver.common.by import By\n",
    "from selenium.webdriver.common.keys import Keys\n",
    "from selenium.webdriver.support.ui import WebDriverWait\n",
    "from selenium.webdriver.support import expected_conditions as EC"
   ]
  },
  {
   "cell_type": "markdown",
   "metadata": {},
   "source": [
    "# Method to scrap the infection data from the html"
   ]
  },
  {
   "cell_type": "code",
   "execution_count": 3,
   "metadata": {},
   "outputs": [],
   "source": [
    "def get_infections(source_html):\n",
    "    \"\"\"Method that takes the source_html from the selenium driver and parses the infections listed.\n",
    "       Returns a dataframe with the information scrapped.\"\"\"\n",
    "    \n",
    "    soup = BeautifulSoup(source_html, 'html5lib')\n",
    "    list_soup = soup.select('li[class=\"clearfix\"]')\n",
    "    list_processed_infections = []\n",
    "\n",
    "    for val in list_soup:\n",
    "        series_infection = []\n",
    "        series_infection.append(datetime.datetime.today().strftime(\"%Y-%m-%d %H:%M:%S\"))\n",
    "        if u'\\xa0' in val.text:\n",
    "            pass\n",
    "        else:\n",
    "            for soup_infection in val.find_all('div', {'class':['col-md-1', 'col-md-2', 'col-md-3']}):\n",
    "                series_infection.append(soup_infection.text)\n",
    "\n",
    "            list_processed_infections.append(series_infection)\n",
    "\n",
    "    df_infections = pd.DataFrame(list_processed_infections)\n",
    "    df_infections.columns = ['Datetime', 'Infection Time', 'Botnet Name', 'Originating ISP', 'OrgID'\n",
    "                             , 'Country', 'City']\n",
    "    return df_infections"
   ]
  },
  {
   "cell_type": "markdown",
   "metadata": {},
   "source": [
    "- Create driver where we will extract the data from the 'Looking Glass Cyber' site."
   ]
  },
  {
   "cell_type": "code",
   "execution_count": 4,
   "metadata": {},
   "outputs": [],
   "source": [
    "def load_driver_Firefox():\n",
    "    \"\"\"Method that instanciates the WebDriver that will be scrapping the data from the Looking Glass Cyber site.\"\"\"\n",
    "    \n",
    "    driver = webdriver.Firefox()\n",
    "    time.sleep(0.5)\n",
    "    driver.maximize_window()\n",
    "\n",
    "    driver.get('https://map.lookingglasscyber.com/')\n",
    "    time.sleep(5)\n",
    "\n",
    "    #Process to enable the layer from which the data is to be scrapped.\n",
    "    element = WebDriverWait(driver, 10).until(EC.presence_of_element_located((By.XPATH, '/html/body/div[2]/div[1]/div[1]/div[3]/button/span')))\n",
    "    driver.find_element_by_xpath('/html/body/div[2]/div[1]/div[1]/div[3]/button/span').click()\n",
    "    time.sleep(1)\n",
    "\n",
    "    driver.find_element_by_xpath('//*[@id=\"display_checkbox\"]').click()\n",
    "    time.sleep(1.5)\n",
    "\n",
    "    driver.find_element_by_xpath('/html/body/div[2]/div[1]/div[1]/div[3]/button/span').click()\n",
    "    time.sleep(1)\n",
    "    \n",
    "    return driver"
   ]
  },
  {
   "cell_type": "code",
   "execution_count": 5,
   "metadata": {},
   "outputs": [],
   "source": [
    "def download_infection_data():\n",
    "    \"\"\"Method that downloads the infections data to a CSV. It processes the page_source continuously and saves\n",
    "       the results to a CSV when the dataframe memory exceeds 10 million bytes.\"\"\"\n",
    "    df_data = pd.DataFrame()\n",
    "    \n",
    "    print('Initiating download of threat data, please wait...')\n",
    "    while df_data.memory_usage(index=True).sum() < 10000000:\n",
    "        df_download = get_infections(driver.page_source)\n",
    "        df_data = df_data.append(df_download, ignore_index=True)\n",
    "        time.sleep(.1)\n",
    "        if len(df_data) % 2200 == 0:\n",
    "            print(f'Current size in memory: {df_data.memory_usage(index=True).sum()}')\n",
    "\n",
    "    #TODO: Cleanup possible duplicates\n",
    "    df_data.columns = ['Datetime', 'Infection Time', 'Botnet Name', 'Originating ISP', 'OrgID', 'Country', 'City']\n",
    "    df_data.to_csv(f'.\\\\data\\\\LookingGlass_Data_{datetime.datetime.today().strftime(\"%Y-%m-%d_%H%M%S\")}.csv')\n",
    "    print(f'Created file with {df_data.memory_usage(index=True).sum()} bytes.')"
   ]
  },
  {
   "cell_type": "code",
   "execution_count": 6,
   "metadata": {},
   "outputs": [],
   "source": [
    "def parse_CSV():\n",
    "    \"\"\"Method that will parse all the written CSV's and convert them to a DataFrame.\n",
    "       Returns a DataFrame with all the scrapped data for the Looking Glass Cyber site\"\"\"\n",
    "    \n",
    "    df_threats = pd.DataFrame()\n",
    "\n",
    "    for file in os.listdir('.\\data'):\n",
    "        df_in = pd.read_csv('.\\\\data\\\\' + file)\n",
    "        df_threats = df_threats.append(df_in, ignore_index=True)\n",
    "\n",
    "    df_threats.columns = ['tempId', 'Datetime', 'Infection Time', 'Botnet Name', 'Originating ISP', 'OrgID', 'Country', 'City']\n",
    "    df_threats = df_threats[1:][['Datetime', 'Infection Time', 'Botnet Name', 'Originating ISP', 'OrgID', 'Country', 'City']].reset_index(drop=True)\n",
    "    \n",
    "    return df_threats"
   ]
  },
  {
   "cell_type": "code",
   "execution_count": null,
   "metadata": {},
   "outputs": [],
   "source": []
  },
  {
   "cell_type": "code",
   "execution_count": null,
   "metadata": {},
   "outputs": [
    {
     "name": "stdout",
     "output_type": "stream",
     "text": [
      "Initiating download of threat data, please wait...\n"
     ]
    }
   ],
   "source": [
    "driver = load_driver_Firefox()\n",
    "\n",
    "for i in range(6):\n",
    "    download_infection_data()\n",
    "    \n",
    "driver.quit()\n",
    "\n",
    "df_threats = parse_CSV()\n",
    "len(df_threats)\n",
    "df_threats.head(10)"
   ]
  },
  {
   "cell_type": "code",
   "execution_count": null,
   "metadata": {},
   "outputs": [],
   "source": []
  },
  {
   "cell_type": "markdown",
   "metadata": {},
   "source": [
    "# Methods to extend the threats data getting information from other sites to enrich the results."
   ]
  },
  {
   "cell_type": "code",
   "execution_count": null,
   "metadata": {},
   "outputs": [],
   "source": [
    "df_threats[['ASN', 'ASN_Name']] = df_threats['OrgID'].str.split(' ',1,expand=True)\n",
    "\n",
    "df_threats.head()"
   ]
  },
  {
   "cell_type": "code",
   "execution_count": null,
   "metadata": {},
   "outputs": [],
   "source": [
    "df_asn = pd.DataFrame(df_threats['ASN'].unique(), columns=['ASN'])\n",
    "len(df_asn)\n",
    "df_asn.sort_values(by='ASN', ascending=True, inplace=True)\n",
    "df_asn.head()"
   ]
  },
  {
   "cell_type": "code",
   "execution_count": null,
   "metadata": {},
   "outputs": [],
   "source": [
    "for i in range(len(df_asn)):\n",
    "    if df_asn.iloc[i,0] != '-':\n",
    "        print(f'https://ipinfo.io/{df_asn.iloc[i,0]}')"
   ]
  },
  {
   "cell_type": "code",
   "execution_count": null,
   "metadata": {},
   "outputs": [],
   "source": []
  },
  {
   "cell_type": "code",
   "execution_count": null,
   "metadata": {},
   "outputs": [],
   "source": []
  },
  {
   "cell_type": "code",
   "execution_count": null,
   "metadata": {},
   "outputs": [],
   "source": []
  },
  {
   "cell_type": "code",
   "execution_count": null,
   "metadata": {},
   "outputs": [],
   "source": []
  },
  {
   "cell_type": "code",
   "execution_count": null,
   "metadata": {},
   "outputs": [],
   "source": []
  }
 ],
 "metadata": {
  "kernelspec": {
   "display_name": "Python 3",
   "language": "python",
   "name": "python3"
  },
  "language_info": {
   "codemirror_mode": {
    "name": "ipython",
    "version": 3
   },
   "file_extension": ".py",
   "mimetype": "text/x-python",
   "name": "python",
   "nbconvert_exporter": "python",
   "pygments_lexer": "ipython3",
   "version": "3.7.6"
  }
 },
 "nbformat": 4,
 "nbformat_minor": 4
}
